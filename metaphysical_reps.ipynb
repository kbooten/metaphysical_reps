{
  "cells": [
    {
      "cell_type": "markdown",
      "metadata": {
        "id": "MSZJVEV_bgzB"
      },
      "source": [
        "# Metaphysical Reps\n",
        "\n",
        "🏋️\n",
        "\n",
        "An interface for poetic training.  It guides the user to metaphorically consider a key term (such as \"truth\" or \"error\") in light of a metaphorical vehicle (such as a \"friar\" or a \"car\"); it does this by generating the beginnings of lines that describe things that are typically possessed by the vehicle (e.g. the \"sermon\" of the \"friar\")."
      ]
    },
    {
      "cell_type": "markdown",
      "metadata": {
        "id": "oDe7qu2Mc_e6"
      },
      "source": [
        "## Get Data\n",
        "\n",
        "This is data that I generated from Project Gutenberg text (for another project and am repurposing here as best I can)."
      ]
    },
    {
      "cell_type": "code",
      "execution_count": null,
      "metadata": {
        "colab": {
          "base_uri": "https://localhost:8080/"
        },
        "id": "puSVitpoHEsq",
        "outputId": "706d862c-0f1f-41ea-e406-37e32c920108"
      },
      "outputs": [
        {
          "name": "stdout",
          "output_type": "stream",
          "text": [
            "--2023-05-26 15:55:20--  https://raw.githubusercontent.com/kbooten/ekphrasisgym/main/possessor2possessed_and_weights.json\n",
            "Resolving raw.githubusercontent.com (raw.githubusercontent.com)... 185.199.111.133, 185.199.109.133, 185.199.108.133, ...\n",
            "Connecting to raw.githubusercontent.com (raw.githubusercontent.com)|185.199.111.133|:443... connected.\n",
            "HTTP request sent, awaiting response... 200 OK\n",
            "Length: 1521163 (1.5M) [text/plain]\n",
            "Saving to: ‘possessor2possessed_and_weights.json.1’\n",
            "\n",
            "possessor2possessed 100%[===================>]   1.45M  --.-KB/s    in 0.03s   \n",
            "\n",
            "2023-05-26 15:55:20 (45.2 MB/s) - ‘possessor2possessed_and_weights.json.1’ saved [1521163/1521163]\n",
            "\n"
          ]
        }
      ],
      "source": [
        "!wget https://raw.githubusercontent.com/kbooten/ekphrasisgym/main/possessor2possessed_and_weights.json"
      ]
    },
    {
      "cell_type": "code",
      "execution_count": null,
      "metadata": {
        "colab": {
          "base_uri": "https://localhost:8080/"
        },
        "id": "v_ZXahG-JcnQ",
        "outputId": "a58b47e6-88a6-4873-82a5-986260fe60d1"
      },
      "outputs": [
        {
          "name": "stdout",
          "output_type": "stream",
          "text": [
            "--2023-05-26 15:55:20--  https://raw.githubusercontent.com/kbooten/ekphrasisgym/main/noun2adjs_and_weights.json\n",
            "Resolving raw.githubusercontent.com (raw.githubusercontent.com)... 185.199.108.133, 185.199.109.133, 185.199.110.133, ...\n",
            "Connecting to raw.githubusercontent.com (raw.githubusercontent.com)|185.199.108.133|:443... connected.\n",
            "HTTP request sent, awaiting response... 200 OK\n",
            "Length: 7817280 (7.5M) [text/plain]\n",
            "Saving to: ‘noun2adjs_and_weights.json.1’\n",
            "\n",
            "noun2adjs_and_weigh 100%[===================>]   7.46M  --.-KB/s    in 0.04s   \n",
            "\n",
            "2023-05-26 15:55:21 (170 MB/s) - ‘noun2adjs_and_weights.json.1’ saved [7817280/7817280]\n",
            "\n"
          ]
        }
      ],
      "source": [
        "!wget https://raw.githubusercontent.com/kbooten/ekphrasisgym/main/noun2adjs_and_weights.json"
      ]
    },
    {
      "cell_type": "code",
      "execution_count": null,
      "metadata": {
        "colab": {
          "base_uri": "https://localhost:8080/"
        },
        "id": "uW_N-CnXJhzb",
        "outputId": "ee86f782-db09-48be-f623-114c83367aae"
      },
      "outputs": [
        {
          "name": "stdout",
          "output_type": "stream",
          "text": [
            "--2023-05-26 15:55:21--  https://raw.githubusercontent.com/kbooten/ekphrasisgym/main/noun2verbs_and_weights.json\n",
            "Resolving raw.githubusercontent.com (raw.githubusercontent.com)... 185.199.108.133, 185.199.110.133, 185.199.109.133, ...\n",
            "Connecting to raw.githubusercontent.com (raw.githubusercontent.com)|185.199.108.133|:443... connected.\n",
            "HTTP request sent, awaiting response... 200 OK\n",
            "Length: 3474424 (3.3M) [text/plain]\n",
            "Saving to: ‘noun2verbs_and_weights.json.1’\n",
            "\n",
            "noun2verbs_and_weig 100%[===================>]   3.31M  --.-KB/s    in 0.03s   \n",
            "\n",
            "2023-05-26 15:55:21 (128 MB/s) - ‘noun2verbs_and_weights.json.1’ saved [3474424/3474424]\n",
            "\n"
          ]
        }
      ],
      "source": [
        "!wget https://raw.githubusercontent.com/kbooten/ekphrasisgym/main/noun2verbs_and_weights.json"
      ]
    },
    {
      "cell_type": "code",
      "execution_count": null,
      "metadata": {
        "id": "SWUN5hURHaPt"
      },
      "outputs": [],
      "source": [
        "import json\n",
        "\n",
        "with open('possessor2possessed_and_weights.json','r') as f:\n",
        "      possessor2possessed = json.load(f)\n",
        "\n",
        "with open('noun2adjs_and_weights.json','r') as f:\n",
        "      noun2adjs = json.load(f)\n",
        "\n",
        "with open('noun2verbs_and_weights.json','r') as f:\n",
        "      noun2verbs = json.load(f)"
      ]
    },
    {
      "cell_type": "code",
      "execution_count": null,
      "metadata": {
        "colab": {
          "base_uri": "https://localhost:8080/"
        },
        "id": "K3cjzQCjHc7r",
        "outputId": "b274e139-a6c8-495a-a377-871bf1822dfe"
      },
      "outputs": [
        {
          "data": {
            "text/plain": [
              "1110"
            ]
          },
          "execution_count": 158,
          "metadata": {},
          "output_type": "execute_result"
        }
      ],
      "source": [
        "possessors = list([k for k in possessor2possessed.keys() if len(possessor2possessed[k])>14])\n",
        "len(possessors)"
      ]
    },
    {
      "cell_type": "code",
      "execution_count": null,
      "metadata": {
        "colab": {
          "base_uri": "https://localhost:8080/"
        },
        "id": "SyjACdT9cA57",
        "outputId": "4df86ca9-74b7-442e-b47e-aa97f3464339"
      },
      "outputs": [
        {
          "data": {
            "text/plain": [
              "[['balsam', 99.03597122302159],\n",
              " ['cowl', 99.03597122302159],\n",
              " ['cord', 21.221993833504627],\n",
              " ['hood', 14.147995889003084],\n",
              " ['gown', 12.553855507143581],\n",
              " ['cell', 10.157535510053496],\n",
              " ['robe', 9.726747173689619],\n",
              " ['demise', 9.003270111183781],\n",
              " ['lantern', 7.502725092653149],\n",
              " ['habit', 7.48527689476326],\n",
              " ['frock', 7.282056707575116],\n",
              " ['preaching', 7.073997944501542],\n",
              " ['execution', 5.825645366060093],\n",
              " ['sermon', 2.8295991778006164],\n",
              " ['dress', 2.2255274432139682],\n",
              " ['appeal', 2.0211422698575836],\n",
              " ['cloak', 1.9546573267701628],\n",
              " ['servant', 1.4422714255779843],\n",
              " ['crown', 1.3754996003197444],\n",
              " ['thought', 0.9615142837186562],\n",
              " ['speech', 0.7282056707575116],\n",
              " ['death', 0.5018714757923392],\n",
              " ['words', 0.4058851279632032],\n",
              " ['face', 0.3571008577753182],\n",
              " ['mouth', 0.3368570449762639],\n",
              " ['hand', 0.2947499143542309],\n",
              " ['voice', 0.28901548022282564],\n",
              " ['eye', 0.21910613102438406],\n",
              " ['heart', 0.18339994670929924],\n",
              " ['eyes', 0.17601179719731325]]"
            ]
          },
          "execution_count": 159,
          "metadata": {},
          "output_type": "execute_result"
        }
      ],
      "source": [
        "possessor2possessed['friar']"
      ]
    },
    {
      "cell_type": "markdown",
      "metadata": {
        "id": "0S8F_LB4dLjH"
      },
      "source": [
        "## Vector Model\n",
        "\n",
        "I'll use some Glove vectors to refine my selection of words."
      ]
    },
    {
      "cell_type": "code",
      "execution_count": null,
      "metadata": {
        "id": "MVh8R_ycqUmP"
      },
      "outputs": [],
      "source": [
        "import gensim.downloader as api\n",
        "vector_model = api.load(\"glove-wiki-gigaword-50\")"
      ]
    },
    {
      "cell_type": "code",
      "execution_count": null,
      "metadata": {
        "id": "69qXWUxTn2YP"
      },
      "outputs": [],
      "source": [
        "import inflect\n",
        "inf = inflect.engine()"
      ]
    },
    {
      "cell_type": "code",
      "execution_count": null,
      "metadata": {
        "colab": {
          "base_uri": "https://localhost:8080/"
        },
        "id": "CqtsHHMkoUxX",
        "outputId": "653d1cf0-9309-42f8-8764-29dc43abeec3"
      },
      "outputs": [
        {
          "data": {
            "text/plain": [
              "False"
            ]
          },
          "execution_count": 162,
          "metadata": {},
          "output_type": "execute_result"
        }
      ],
      "source": [
        "inf.singular_noun(\"dog\")"
      ]
    },
    {
      "cell_type": "code",
      "execution_count": null,
      "metadata": {
        "colab": {
          "base_uri": "https://localhost:8080/"
        },
        "id": "fcNoTVywrI3T",
        "outputId": "14623ec4-b549-45c8-9c0f-c66aaf926df2"
      },
      "outputs": [
        {
          "data": {
            "text/plain": [
              "0.49237353"
            ]
          },
          "execution_count": 163,
          "metadata": {},
          "output_type": "execute_result"
        }
      ],
      "source": [
        "def compare_words(w0,w1):\n",
        "  if w0 in vector_model:\n",
        "    if w1 in vector_model:\n",
        "      return vector_model.similarity(w0,w1)\n",
        "  return False\n",
        "\n",
        "compare_words('dog','smile')"
      ]
    },
    {
      "cell_type": "markdown",
      "metadata": {
        "id": "gKVKSsvQdtAG"
      },
      "source": [
        "A function that prunes a list of words so that it does not contain overly-related words."
      ]
    },
    {
      "cell_type": "code",
      "execution_count": null,
      "metadata": {
        "colab": {
          "base_uri": "https://localhost:8080/"
        },
        "id": "mTfG3_rYtciS",
        "outputId": "c6cfdecb-95bf-47fa-9d13-599298e91403"
      },
      "outputs": [
        {
          "data": {
            "text/plain": [
              "['dog', 'hat', 'porch']"
            ]
          },
          "execution_count": 164,
          "metadata": {},
          "output_type": "execute_result"
        }
      ],
      "source": [
        "def remove_too_close(list_of_words,too_close = .72):\n",
        "  list_of_words_again = reversed(list_of_words)\n",
        "  to_remove = []\n",
        "  for w in list_of_words_again:\n",
        "    for _w in list_of_words:\n",
        "      if (_w not in to_remove and w!=_w):\n",
        "        sim = compare_words(w,_w)\n",
        "        if sim>=too_close:\n",
        "          to_remove.append(w)\n",
        "  for to_rem in list(set(to_remove)):\n",
        "    list_of_words.remove(to_rem)\n",
        "  return list_of_words\n",
        "\n",
        "\n",
        "remove_too_close(['dog','dogs','hat','hats','porch'])"
      ]
    },
    {
      "cell_type": "code",
      "execution_count": null,
      "metadata": {
        "colab": {
          "base_uri": "https://localhost:8080/"
        },
        "id": "-z5adW37wDkx",
        "outputId": "38366e41-0e16-4373-dbb3-acf56071f0f0"
      },
      "outputs": [
        {
          "data": {
            "text/plain": [
              "0.74306446"
            ]
          },
          "execution_count": 165,
          "metadata": {},
          "output_type": "execute_result"
        }
      ],
      "source": [
        "vector_model.similarity('hat','hats')"
      ]
    },
    {
      "cell_type": "markdown",
      "metadata": {
        "id": "gDNZhnHkd2QJ"
      },
      "source": [
        "A function that reranks (and takes the top `n` of a list of) a list words according to how similar the words are to some `comparison` term.  "
      ]
    },
    {
      "cell_type": "code",
      "execution_count": null,
      "metadata": {
        "colab": {
          "base_uri": "https://localhost:8080/"
        },
        "id": "r4xWPy4PqjGa",
        "outputId": "d81d93e0-b59e-42a7-b746-9a83d9378b51"
      },
      "outputs": [
        {
          "data": {
            "text/plain": [
              "['clerk',\n",
              " 'office',\n",
              " 'firm',\n",
              " 'letter',\n",
              " 'clients',\n",
              " 'brief',\n",
              " 'fees',\n",
              " 'distinction',\n",
              " 'communication',\n",
              " 'portfolio']"
            ]
          },
          "execution_count": 166,
          "metadata": {},
          "output_type": "execute_result"
        }
      ],
      "source": [
        "def get_choices(list_of_words,comparison,choose_from_top=14):\n",
        "  #all_possessed = [item for item,value in possessor2possessed[possessor]]\n",
        "  list_of_words_scored = [(w,compare_words(comparison,w)) for w in list_of_words]\n",
        "  list_of_words_scored.sort(key=lambda x: x[1], reverse=True)\n",
        "  list_of_words_scored = [w for w,score in list_of_words_scored][:choose_from_top]\n",
        "  list_of_words_scored = remove_too_close(list_of_words_scored)\n",
        "  return list_of_words_scored\n",
        "\n",
        "get_choices([w for w,score in possessor2possessed['lawyer']],'lawyer')"
      ]
    },
    {
      "cell_type": "code",
      "execution_count": null,
      "metadata": {
        "colab": {
          "base_uri": "https://localhost:8080/"
        },
        "id": "ebyT-vIVxxd2",
        "outputId": "564ca0aa-dc71-4c1c-fa51-adcd060df01c"
      },
      "outputs": [
        {
          "data": {
            "text/plain": [
              "[1, 2, 4]"
            ]
          },
          "execution_count": 167,
          "metadata": {},
          "output_type": "execute_result"
        }
      ],
      "source": [
        "import random\n",
        "\n",
        "def random_sample_keep_order(a_list,k):\n",
        "  a_sample = random.sample(a_list,k)\n",
        "  a_sample_in_order = [i for i in a_list if i in a_sample]\n",
        "  return a_sample_in_order\n",
        "\n",
        "random_sample_keep_order([1,2,3,4,5,6],3)"
      ]
    },
    {
      "cell_type": "code",
      "execution_count": null,
      "metadata": {
        "colab": {
          "base_uri": "https://localhost:8080/"
        },
        "id": "zV4TPy7NQ5vb",
        "outputId": "8aed6496-dbb0-40b4-ddd5-c1f73cd2fa63"
      },
      "outputs": [
        {
          "name": "stderr",
          "output_type": "stream",
          "text": [
            "[nltk_data] Downloading package stopwords to /root/nltk_data...\n",
            "[nltk_data]   Package stopwords is already up-to-date!\n"
          ]
        }
      ],
      "source": [
        "from nltk import corpus,download\n",
        "download('stopwords')\n",
        "stopwords = corpus.stopwords.words('english')\n",
        "stopwords += ['own','very','make']"
      ]
    },
    {
      "cell_type": "code",
      "execution_count": null,
      "metadata": {
        "colab": {
          "base_uri": "https://localhost:8080/"
        },
        "id": "zF8ZENvEV7yh",
        "outputId": "b4099aa2-1557-4df1-964c-6dba064f70a2"
      },
      "outputs": [
        {
          "name": "stdout",
          "output_type": "stream",
          "text": [
            "True\n",
            "False\n",
            "True\n",
            "True\n"
          ]
        }
      ],
      "source": [
        "def is_it_singular(noun):\n",
        "  if noun in noun2adjs:\n",
        "    if noun2adjs[noun]['num']==str(1):\n",
        "      return True\n",
        "    else:\n",
        "      return False\n",
        "  elif noun in noun2verbs:\n",
        "    if noun2verbs[noun]['num']==str(1):\n",
        "      return True\n",
        "    else:\n",
        "      return False\n",
        "  elif noun.endswith('ss'):\n",
        "    return True\n",
        "  else:\n",
        "    if inf.singular_noun(noun)==False:\n",
        "      return True\n",
        "    else:\n",
        "      return False\n",
        "\n",
        "print(is_it_singular(\"ass\"))\n",
        "print(is_it_singular(\"asses\"))\n",
        "print(is_it_singular(\"progress\"))\n",
        "print(is_it_singular(\"virtue\"))"
      ]
    },
    {
      "cell_type": "markdown",
      "metadata": {
        "id": "q8k_R7yAdVRq"
      },
      "source": [
        "## Main Function"
      ]
    },
    {
      "cell_type": "code",
      "execution_count": null,
      "metadata": {
        "id": "2XDSr-O3Hhso"
      },
      "outputs": [],
      "source": [
        "def do_some_reps(keyword,vehicle=None,max_reps=4,adj_prob=.3,verb_prob=.5):\n",
        "\n",
        "  ## either use the vehicle supplied or choose one\n",
        "  if vehicle == None:\n",
        "    a_possessor = random.choice(possessors)\n",
        "  else:\n",
        "    a_possessor = vehicle\n",
        "\n",
        "  ## make it singular if it isn't\n",
        "  if is_it_singular(a_possessor)==False:\n",
        "    a_possessor_singular = inf.singular_noun(a_possessor) ## make singular with inflect\n",
        "    a_possessor = a_possessor_singular if a_possessor_singular!=False else a_possessor  ## this is just in case inf thinks it IS singular\n",
        "\n",
        "  ## choose a certain number of possessed after reranking them\n",
        "  possessed = [w for w,score in possessor2possessed[a_possessor]]\n",
        "  choices = get_choices(possessed,a_possessor)\n",
        "  possessed = random_sample_keep_order(choices,max_reps)\n",
        "\n",
        "  ## format first string\n",
        "  but_or_not = random.choice([\"\",\"\",\"\",\"but \"])\n",
        "  a_or_an = \"an\" if a_possessor[0] in \"aeiou\" else \"a\"\n",
        "  print(\"\\033[38;5;250m%s is %s%s %s\\033[0;0m\" % (keyword,but_or_not,a_or_an,a_possessor))\n",
        "\n",
        "  ## loop through possessed\n",
        "  for i in possessed:\n",
        "\n",
        "    ## maybe add adjective\n",
        "    if (random.random()<adj_prob or i not in noun2adjs):\n",
        "      adj = \"\"\n",
        "    else:\n",
        "      adjs = [v for v,s in noun2adjs[i]['adjs'] if v not in stopwords]\n",
        "      adj_choices = get_choices(adjs,a_possessor,choose_from_top=3)\n",
        "      adj = random.choice(adj_choices)+\" \"\n",
        "\n",
        "    ## format string and get user input\n",
        "    is_or_are = \"is\" if is_it_singular(i) else \"are\"\n",
        "    input_string = \"\\033[38;5;250m  and its %s%s %s \\033[0;0m\" % (adj,i,is_or_are)\n",
        "    input(input_string)\n",
        "\n",
        "    ## maybe add verb\n",
        "    if (random.random()<verb_prob and i in noun2verbs):\n",
        "      verbs = [v for v,s in noun2verbs[i]['verbs'] if v not in stopwords]\n",
        "      verb_choices = get_choices(verbs,i,choose_from_top=6)\n",
        "      a_verb = random.choice(verb_choices)\n",
        "      this_or_these = \"this\" if is_it_singular(i) else \"these\"\n",
        "      verb_framing = random.choice([\"could\",\"shall\",\"will\",\"will\",\"could not\",\"should\",\"mustn't\",\"does\",\"does\",\"does\"])\n",
        "      if (verb_framing == \"does\" and is_it_singular(i)==False):\n",
        "        verb_framing = \"do\"\n",
        "      input_string = \"\\033[38;5;250m    and %s %s %s %s \\033[0;0m\" % (this_or_these,i,verb_framing,a_verb)\n",
        "      input(input_string)\n",
        "\n",
        "#do_some_reps(\"history\")"
      ]
    },
    {
      "cell_type": "markdown",
      "metadata": {
        "id": "gYgisEL0dYwS"
      },
      "source": [
        "# Let's Get Pumped 💪"
      ]
    },
    {
      "cell_type": "code",
      "execution_count": null,
      "metadata": {
        "id": "uOKtwvg-T00X"
      },
      "outputs": [],
      "source": [
        "items_to_consider = [\n",
        "    \"truth\",\n",
        "    \"youth\",\n",
        "    \"poesy\",\n",
        "    \"fashion\",\n",
        "    \"time\",\n",
        "    \"money\",\n",
        "    \"work\",\n",
        "    \"error\",\n",
        "    \"doubt\",\n",
        "    \"thought\",\n",
        "    \"history\",\n",
        "    \"a flower\",\n",
        "    \"tomorrow\",\n",
        "    \"your face\",\n",
        "    \"the night\"\n",
        "    \"the day\",\n",
        "    \"mercy\",\n",
        "\n",
        "]"
      ]
    },
    {
      "cell_type": "code",
      "execution_count": null,
      "metadata": {
        "colab": {
          "background_save": true,
          "base_uri": "https://localhost:8080/"
        },
        "id": "vs7CsskiaVCq",
        "outputId": "5069b7f9-0999-46bc-eff5-23423e3ce6e9"
      },
      "outputs": [
        {
          "name": "stdout",
          "output_type": "stream",
          "text": [
            "\u001b[38;5;250mtomorrow is a star\u001b[0;0m\n"
          ]
        }
      ],
      "source": [
        "do_some_reps(random.choice(items_to_consider))"
      ]
    },
    {
      "cell_type": "markdown",
      "metadata": {
        "id": "Zo7gICzKKwzo"
      },
      "source": [
        "***\n"
      ]
    }
  ],
  "metadata": {
    "colab": {
      "provenance": []
    },
    "kernelspec": {
      "display_name": "Python 3",
      "name": "python3"
    },
    "language_info": {
      "name": "python"
    }
  },
  "nbformat": 4,
  "nbformat_minor": 0
}